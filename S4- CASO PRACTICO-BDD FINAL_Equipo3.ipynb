{
 "cells": [
  {
   "cell_type": "markdown",
   "id": "840324c4",
   "metadata": {},
   "source": [
    "# S4- CASO PRACTICO-BDD FINAL\n",
    "\n",
    "### Participantes GRUPO 3:\n",
    "\n",
    "- Juan José Cabrera\n",
    "- Marco Vinicio Chasiluisa\n",
    "- Luis Felipe Contreras\n",
    "- Ana Belén Erazo\n"
   ]
  },
  {
   "cell_type": "markdown",
   "id": "3bd41ead",
   "metadata": {},
   "source": [
    "### 1. Importe la base de datos a una base en Jupyter Notebook con pandas. "
   ]
  },
  {
   "cell_type": "code",
   "execution_count": 1,
   "id": "978809fa",
   "metadata": {},
   "outputs": [],
   "source": [
    "import numpy as np\n",
    "import pandas as pd\n",
    "import matplotlib.pyplot as plt\n",
    "import seaborn as sns\n",
    "\n",
    "import warnings\n",
    "warnings.filterwarnings(\"ignore\")"
   ]
  },
  {
   "cell_type": "markdown",
   "id": "61e024ee",
   "metadata": {},
   "source": [
    "Para la regresión y validación de supuestos llamamos a statsmodel, el módulo encargado de la notación de fórmula y al módulo para las pruebas de hipótesis."
   ]
  },
  {
   "cell_type": "code",
   "execution_count": 2,
   "id": "c4f53659",
   "metadata": {},
   "outputs": [],
   "source": [
    "import statsmodels.stats.api as sms\n",
    "import statsmodels.api as sm\n",
    "from statsmodels.formula.api import ols\n",
    "from statsmodels.compat import lzip"
   ]
  },
  {
   "cell_type": "markdown",
   "id": "e10607d3",
   "metadata": {},
   "source": [
    "Ahora ,  llamemos a nuestra base de datos a nuestro espacio en el Jupyer Notebook:"
   ]
  },
  {
   "cell_type": "code",
   "execution_count": 3,
   "id": "4e7ce49c",
   "metadata": {},
   "outputs": [
    {
     "data": {
      "text/html": [
       "<div>\n",
       "<style scoped>\n",
       "    .dataframe tbody tr th:only-of-type {\n",
       "        vertical-align: middle;\n",
       "    }\n",
       "\n",
       "    .dataframe tbody tr th {\n",
       "        vertical-align: top;\n",
       "    }\n",
       "\n",
       "    .dataframe thead th {\n",
       "        text-align: right;\n",
       "    }\n",
       "</style>\n",
       "<table border=\"1\" class=\"dataframe\">\n",
       "  <thead>\n",
       "    <tr style=\"text-align: right;\">\n",
       "      <th></th>\n",
       "      <th>Store</th>\n",
       "      <th>Date</th>\n",
       "      <th>Weekly_Sales</th>\n",
       "      <th>Holiday_Flag</th>\n",
       "      <th>Temperature</th>\n",
       "      <th>Fuel_Price</th>\n",
       "      <th>CPI</th>\n",
       "      <th>Unemployment</th>\n",
       "    </tr>\n",
       "  </thead>\n",
       "  <tbody>\n",
       "    <tr>\n",
       "      <th>0</th>\n",
       "      <td>1</td>\n",
       "      <td>05-02-2010</td>\n",
       "      <td>1643690.90</td>\n",
       "      <td>0</td>\n",
       "      <td>42.31</td>\n",
       "      <td>2.572</td>\n",
       "      <td>211.096358</td>\n",
       "      <td>8.106</td>\n",
       "    </tr>\n",
       "    <tr>\n",
       "      <th>1</th>\n",
       "      <td>1</td>\n",
       "      <td>12-02-2010</td>\n",
       "      <td>1641957.44</td>\n",
       "      <td>1</td>\n",
       "      <td>38.51</td>\n",
       "      <td>2.548</td>\n",
       "      <td>211.242170</td>\n",
       "      <td>8.106</td>\n",
       "    </tr>\n",
       "    <tr>\n",
       "      <th>2</th>\n",
       "      <td>1</td>\n",
       "      <td>19-02-2010</td>\n",
       "      <td>1611968.17</td>\n",
       "      <td>0</td>\n",
       "      <td>39.93</td>\n",
       "      <td>2.514</td>\n",
       "      <td>211.289143</td>\n",
       "      <td>8.106</td>\n",
       "    </tr>\n",
       "    <tr>\n",
       "      <th>3</th>\n",
       "      <td>1</td>\n",
       "      <td>26-02-2010</td>\n",
       "      <td>1409727.59</td>\n",
       "      <td>0</td>\n",
       "      <td>46.63</td>\n",
       "      <td>2.561</td>\n",
       "      <td>211.319643</td>\n",
       "      <td>8.106</td>\n",
       "    </tr>\n",
       "    <tr>\n",
       "      <th>4</th>\n",
       "      <td>1</td>\n",
       "      <td>05-03-2010</td>\n",
       "      <td>1554806.68</td>\n",
       "      <td>0</td>\n",
       "      <td>46.50</td>\n",
       "      <td>2.625</td>\n",
       "      <td>211.350143</td>\n",
       "      <td>8.106</td>\n",
       "    </tr>\n",
       "    <tr>\n",
       "      <th>...</th>\n",
       "      <td>...</td>\n",
       "      <td>...</td>\n",
       "      <td>...</td>\n",
       "      <td>...</td>\n",
       "      <td>...</td>\n",
       "      <td>...</td>\n",
       "      <td>...</td>\n",
       "      <td>...</td>\n",
       "    </tr>\n",
       "    <tr>\n",
       "      <th>6430</th>\n",
       "      <td>45</td>\n",
       "      <td>28-09-2012</td>\n",
       "      <td>713173.95</td>\n",
       "      <td>0</td>\n",
       "      <td>64.88</td>\n",
       "      <td>3.997</td>\n",
       "      <td>192.013558</td>\n",
       "      <td>8.684</td>\n",
       "    </tr>\n",
       "    <tr>\n",
       "      <th>6431</th>\n",
       "      <td>45</td>\n",
       "      <td>05-10-2012</td>\n",
       "      <td>733455.07</td>\n",
       "      <td>0</td>\n",
       "      <td>64.89</td>\n",
       "      <td>3.985</td>\n",
       "      <td>192.170412</td>\n",
       "      <td>8.667</td>\n",
       "    </tr>\n",
       "    <tr>\n",
       "      <th>6432</th>\n",
       "      <td>45</td>\n",
       "      <td>12-10-2012</td>\n",
       "      <td>734464.36</td>\n",
       "      <td>0</td>\n",
       "      <td>54.47</td>\n",
       "      <td>4.000</td>\n",
       "      <td>192.327265</td>\n",
       "      <td>8.667</td>\n",
       "    </tr>\n",
       "    <tr>\n",
       "      <th>6433</th>\n",
       "      <td>45</td>\n",
       "      <td>19-10-2012</td>\n",
       "      <td>718125.53</td>\n",
       "      <td>0</td>\n",
       "      <td>56.47</td>\n",
       "      <td>3.969</td>\n",
       "      <td>192.330854</td>\n",
       "      <td>8.667</td>\n",
       "    </tr>\n",
       "    <tr>\n",
       "      <th>6434</th>\n",
       "      <td>45</td>\n",
       "      <td>26-10-2012</td>\n",
       "      <td>760281.43</td>\n",
       "      <td>0</td>\n",
       "      <td>58.85</td>\n",
       "      <td>3.882</td>\n",
       "      <td>192.308899</td>\n",
       "      <td>8.667</td>\n",
       "    </tr>\n",
       "  </tbody>\n",
       "</table>\n",
       "<p>6435 rows × 8 columns</p>\n",
       "</div>"
      ],
      "text/plain": [
       "      Store        Date  Weekly_Sales  Holiday_Flag  Temperature  Fuel_Price  \\\n",
       "0         1  05-02-2010    1643690.90             0        42.31       2.572   \n",
       "1         1  12-02-2010    1641957.44             1        38.51       2.548   \n",
       "2         1  19-02-2010    1611968.17             0        39.93       2.514   \n",
       "3         1  26-02-2010    1409727.59             0        46.63       2.561   \n",
       "4         1  05-03-2010    1554806.68             0        46.50       2.625   \n",
       "...     ...         ...           ...           ...          ...         ...   \n",
       "6430     45  28-09-2012     713173.95             0        64.88       3.997   \n",
       "6431     45  05-10-2012     733455.07             0        64.89       3.985   \n",
       "6432     45  12-10-2012     734464.36             0        54.47       4.000   \n",
       "6433     45  19-10-2012     718125.53             0        56.47       3.969   \n",
       "6434     45  26-10-2012     760281.43             0        58.85       3.882   \n",
       "\n",
       "             CPI  Unemployment  \n",
       "0     211.096358         8.106  \n",
       "1     211.242170         8.106  \n",
       "2     211.289143         8.106  \n",
       "3     211.319643         8.106  \n",
       "4     211.350143         8.106  \n",
       "...          ...           ...  \n",
       "6430  192.013558         8.684  \n",
       "6431  192.170412         8.667  \n",
       "6432  192.327265         8.667  \n",
       "6433  192.330854         8.667  \n",
       "6434  192.308899         8.667  \n",
       "\n",
       "[6435 rows x 8 columns]"
      ]
     },
     "execution_count": 3,
     "metadata": {},
     "output_type": "execute_result"
    }
   ],
   "source": [
    "df=pd.read_csv(\"/Users/belen/Documents/GitHub/S4-CASOPRACTICO-BDDFINAL/Walmart.csv\")\n",
    "df"
   ]
  },
  {
   "cell_type": "markdown",
   "id": "fd06103d",
   "metadata": {},
   "source": [
    "#### Recodificar el nombre de las columnas a español"
   ]
  },
  {
   "cell_type": "code",
   "execution_count": 4,
   "id": "3ac2663a",
   "metadata": {},
   "outputs": [],
   "source": [
    "df.rename({ 'Store':'tienda', 'Date': 'fecha', 'Weekly_Sales':'ventas_semanales', 'Holiday_Flag': 'flag_feriado', 'Temperature':'temperatura', 'Fuel_Price': 'precio_combustible', 'CPI': 'CPI', 'Unemployment': 'desempleo'  }, axis=1, inplace=True)"
   ]
  },
  {
   "cell_type": "markdown",
   "id": "b57e7cf5",
   "metadata": {},
   "source": [
    "Se separa el campo de fecha para poder categorizar las ventas por año."
   ]
  },
  {
   "cell_type": "code",
   "execution_count": 5,
   "id": "422d0419",
   "metadata": {},
   "outputs": [
    {
     "data": {
      "text/html": [
       "<div>\n",
       "<style scoped>\n",
       "    .dataframe tbody tr th:only-of-type {\n",
       "        vertical-align: middle;\n",
       "    }\n",
       "\n",
       "    .dataframe tbody tr th {\n",
       "        vertical-align: top;\n",
       "    }\n",
       "\n",
       "    .dataframe thead th {\n",
       "        text-align: right;\n",
       "    }\n",
       "</style>\n",
       "<table border=\"1\" class=\"dataframe\">\n",
       "  <thead>\n",
       "    <tr style=\"text-align: right;\">\n",
       "      <th></th>\n",
       "      <th>tienda</th>\n",
       "      <th>fecha</th>\n",
       "      <th>ventas_semanales</th>\n",
       "      <th>flag_feriado</th>\n",
       "      <th>temperatura</th>\n",
       "      <th>precio_combustible</th>\n",
       "      <th>CPI</th>\n",
       "      <th>desempleo</th>\n",
       "      <th>dia</th>\n",
       "      <th>mes</th>\n",
       "      <th>anio</th>\n",
       "    </tr>\n",
       "  </thead>\n",
       "  <tbody>\n",
       "    <tr>\n",
       "      <th>0</th>\n",
       "      <td>1</td>\n",
       "      <td>05-02-2010</td>\n",
       "      <td>1643690.90</td>\n",
       "      <td>0</td>\n",
       "      <td>42.31</td>\n",
       "      <td>2.572</td>\n",
       "      <td>211.096358</td>\n",
       "      <td>8.106</td>\n",
       "      <td>05</td>\n",
       "      <td>02</td>\n",
       "      <td>2010</td>\n",
       "    </tr>\n",
       "    <tr>\n",
       "      <th>1</th>\n",
       "      <td>1</td>\n",
       "      <td>12-02-2010</td>\n",
       "      <td>1641957.44</td>\n",
       "      <td>1</td>\n",
       "      <td>38.51</td>\n",
       "      <td>2.548</td>\n",
       "      <td>211.242170</td>\n",
       "      <td>8.106</td>\n",
       "      <td>12</td>\n",
       "      <td>02</td>\n",
       "      <td>2010</td>\n",
       "    </tr>\n",
       "    <tr>\n",
       "      <th>2</th>\n",
       "      <td>1</td>\n",
       "      <td>19-02-2010</td>\n",
       "      <td>1611968.17</td>\n",
       "      <td>0</td>\n",
       "      <td>39.93</td>\n",
       "      <td>2.514</td>\n",
       "      <td>211.289143</td>\n",
       "      <td>8.106</td>\n",
       "      <td>19</td>\n",
       "      <td>02</td>\n",
       "      <td>2010</td>\n",
       "    </tr>\n",
       "    <tr>\n",
       "      <th>3</th>\n",
       "      <td>1</td>\n",
       "      <td>26-02-2010</td>\n",
       "      <td>1409727.59</td>\n",
       "      <td>0</td>\n",
       "      <td>46.63</td>\n",
       "      <td>2.561</td>\n",
       "      <td>211.319643</td>\n",
       "      <td>8.106</td>\n",
       "      <td>26</td>\n",
       "      <td>02</td>\n",
       "      <td>2010</td>\n",
       "    </tr>\n",
       "    <tr>\n",
       "      <th>4</th>\n",
       "      <td>1</td>\n",
       "      <td>05-03-2010</td>\n",
       "      <td>1554806.68</td>\n",
       "      <td>0</td>\n",
       "      <td>46.50</td>\n",
       "      <td>2.625</td>\n",
       "      <td>211.350143</td>\n",
       "      <td>8.106</td>\n",
       "      <td>05</td>\n",
       "      <td>03</td>\n",
       "      <td>2010</td>\n",
       "    </tr>\n",
       "    <tr>\n",
       "      <th>...</th>\n",
       "      <td>...</td>\n",
       "      <td>...</td>\n",
       "      <td>...</td>\n",
       "      <td>...</td>\n",
       "      <td>...</td>\n",
       "      <td>...</td>\n",
       "      <td>...</td>\n",
       "      <td>...</td>\n",
       "      <td>...</td>\n",
       "      <td>...</td>\n",
       "      <td>...</td>\n",
       "    </tr>\n",
       "    <tr>\n",
       "      <th>6430</th>\n",
       "      <td>45</td>\n",
       "      <td>28-09-2012</td>\n",
       "      <td>713173.95</td>\n",
       "      <td>0</td>\n",
       "      <td>64.88</td>\n",
       "      <td>3.997</td>\n",
       "      <td>192.013558</td>\n",
       "      <td>8.684</td>\n",
       "      <td>28</td>\n",
       "      <td>09</td>\n",
       "      <td>2012</td>\n",
       "    </tr>\n",
       "    <tr>\n",
       "      <th>6431</th>\n",
       "      <td>45</td>\n",
       "      <td>05-10-2012</td>\n",
       "      <td>733455.07</td>\n",
       "      <td>0</td>\n",
       "      <td>64.89</td>\n",
       "      <td>3.985</td>\n",
       "      <td>192.170412</td>\n",
       "      <td>8.667</td>\n",
       "      <td>05</td>\n",
       "      <td>10</td>\n",
       "      <td>2012</td>\n",
       "    </tr>\n",
       "    <tr>\n",
       "      <th>6432</th>\n",
       "      <td>45</td>\n",
       "      <td>12-10-2012</td>\n",
       "      <td>734464.36</td>\n",
       "      <td>0</td>\n",
       "      <td>54.47</td>\n",
       "      <td>4.000</td>\n",
       "      <td>192.327265</td>\n",
       "      <td>8.667</td>\n",
       "      <td>12</td>\n",
       "      <td>10</td>\n",
       "      <td>2012</td>\n",
       "    </tr>\n",
       "    <tr>\n",
       "      <th>6433</th>\n",
       "      <td>45</td>\n",
       "      <td>19-10-2012</td>\n",
       "      <td>718125.53</td>\n",
       "      <td>0</td>\n",
       "      <td>56.47</td>\n",
       "      <td>3.969</td>\n",
       "      <td>192.330854</td>\n",
       "      <td>8.667</td>\n",
       "      <td>19</td>\n",
       "      <td>10</td>\n",
       "      <td>2012</td>\n",
       "    </tr>\n",
       "    <tr>\n",
       "      <th>6434</th>\n",
       "      <td>45</td>\n",
       "      <td>26-10-2012</td>\n",
       "      <td>760281.43</td>\n",
       "      <td>0</td>\n",
       "      <td>58.85</td>\n",
       "      <td>3.882</td>\n",
       "      <td>192.308899</td>\n",
       "      <td>8.667</td>\n",
       "      <td>26</td>\n",
       "      <td>10</td>\n",
       "      <td>2012</td>\n",
       "    </tr>\n",
       "  </tbody>\n",
       "</table>\n",
       "<p>6435 rows × 11 columns</p>\n",
       "</div>"
      ],
      "text/plain": [
       "      tienda       fecha  ventas_semanales  flag_feriado  temperatura  \\\n",
       "0          1  05-02-2010        1643690.90             0        42.31   \n",
       "1          1  12-02-2010        1641957.44             1        38.51   \n",
       "2          1  19-02-2010        1611968.17             0        39.93   \n",
       "3          1  26-02-2010        1409727.59             0        46.63   \n",
       "4          1  05-03-2010        1554806.68             0        46.50   \n",
       "...      ...         ...               ...           ...          ...   \n",
       "6430      45  28-09-2012         713173.95             0        64.88   \n",
       "6431      45  05-10-2012         733455.07             0        64.89   \n",
       "6432      45  12-10-2012         734464.36             0        54.47   \n",
       "6433      45  19-10-2012         718125.53             0        56.47   \n",
       "6434      45  26-10-2012         760281.43             0        58.85   \n",
       "\n",
       "      precio_combustible         CPI  desempleo dia mes  anio  \n",
       "0                  2.572  211.096358      8.106  05  02  2010  \n",
       "1                  2.548  211.242170      8.106  12  02  2010  \n",
       "2                  2.514  211.289143      8.106  19  02  2010  \n",
       "3                  2.561  211.319643      8.106  26  02  2010  \n",
       "4                  2.625  211.350143      8.106  05  03  2010  \n",
       "...                  ...         ...        ...  ..  ..   ...  \n",
       "6430               3.997  192.013558      8.684  28  09  2012  \n",
       "6431               3.985  192.170412      8.667  05  10  2012  \n",
       "6432               4.000  192.327265      8.667  12  10  2012  \n",
       "6433               3.969  192.330854      8.667  19  10  2012  \n",
       "6434               3.882  192.308899      8.667  26  10  2012  \n",
       "\n",
       "[6435 rows x 11 columns]"
      ]
     },
     "execution_count": 5,
     "metadata": {},
     "output_type": "execute_result"
    }
   ],
   "source": [
    "df[['dia', 'mes', 'anio']] = df['fecha'].str.split('-', expand=True)\n",
    "df"
   ]
  },
  {
   "cell_type": "markdown",
   "id": "94fd3d98",
   "metadata": {},
   "source": [
    "### 2. Obtenga los descriptivos resumen de la base de datos e identifique las variables numéricas y categóricas. Indique ¿hay algo que le llame la atención? \n"
   ]
  },
  {
   "cell_type": "markdown",
   "id": "28b73378",
   "metadata": {},
   "source": [
    "En dataset podemos encontrar 11 campos. De ellos, 7 son variables númericas y 4 son categóricas."
   ]
  },
  {
   "cell_type": "code",
   "execution_count": 16,
   "id": "e1d78c0a",
   "metadata": {},
   "outputs": [
    {
     "name": "stdout",
     "output_type": "stream",
     "text": [
      "Variables cuantitativas:\n",
      "Index(['tienda', 'ventas_semanales', 'flag_feriado', 'temperatura',\n",
      "       'precio_combustible', 'CPI', 'desempleo'],\n",
      "      dtype='object')\n",
      "Variables cualitativas:\n",
      "Index(['fecha', 'dia', 'mes', 'anio'], dtype='object')\n"
     ]
    }
   ],
   "source": [
    "var_cuantitativas = df.select_dtypes('number').columns\n",
    "print(\"Variables cuantitativas:\")\n",
    "print(var_cuantitativas)\n",
    "var_cualitativas  =df.select_dtypes('object').columns\n",
    "print(\"Variables cualitativas:\")\n",
    "print(var_cualitativas)\n",
    "\n",
    "from sklearn.preprocessing import LabelEncoder\n",
    "\n",
    "# creating instance of labelencoder\n",
    "labelencoder = LabelEncoder()\n",
    "\n",
    "df[var_cualitativas] = df[var_cualitativas].apply(labelencoder.fit_transform)"
   ]
  },
  {
   "cell_type": "markdown",
   "id": "d4d21c7c",
   "metadata": {},
   "source": [
    "#### Análisis de valores descriptivos"
   ]
  },
  {
   "cell_type": "code",
   "execution_count": 6,
   "id": "f06788f3",
   "metadata": {},
   "outputs": [
    {
     "data": {
      "text/html": [
       "<div>\n",
       "<style scoped>\n",
       "    .dataframe tbody tr th:only-of-type {\n",
       "        vertical-align: middle;\n",
       "    }\n",
       "\n",
       "    .dataframe tbody tr th {\n",
       "        vertical-align: top;\n",
       "    }\n",
       "\n",
       "    .dataframe thead th {\n",
       "        text-align: right;\n",
       "    }\n",
       "</style>\n",
       "<table border=\"1\" class=\"dataframe\">\n",
       "  <thead>\n",
       "    <tr style=\"text-align: right;\">\n",
       "      <th></th>\n",
       "      <th>tienda</th>\n",
       "      <th>ventas_semanales</th>\n",
       "      <th>flag_feriado</th>\n",
       "      <th>temperatura</th>\n",
       "      <th>precio_combustible</th>\n",
       "      <th>CPI</th>\n",
       "      <th>desempleo</th>\n",
       "    </tr>\n",
       "  </thead>\n",
       "  <tbody>\n",
       "    <tr>\n",
       "      <th>count</th>\n",
       "      <td>6435.000000</td>\n",
       "      <td>6.435000e+03</td>\n",
       "      <td>6435.000000</td>\n",
       "      <td>6435.000000</td>\n",
       "      <td>6435.000000</td>\n",
       "      <td>6435.000000</td>\n",
       "      <td>6435.000000</td>\n",
       "    </tr>\n",
       "    <tr>\n",
       "      <th>mean</th>\n",
       "      <td>23.000000</td>\n",
       "      <td>1.046965e+06</td>\n",
       "      <td>0.069930</td>\n",
       "      <td>60.663782</td>\n",
       "      <td>3.358607</td>\n",
       "      <td>171.578394</td>\n",
       "      <td>7.999151</td>\n",
       "    </tr>\n",
       "    <tr>\n",
       "      <th>std</th>\n",
       "      <td>12.988182</td>\n",
       "      <td>5.643666e+05</td>\n",
       "      <td>0.255049</td>\n",
       "      <td>18.444933</td>\n",
       "      <td>0.459020</td>\n",
       "      <td>39.356712</td>\n",
       "      <td>1.875885</td>\n",
       "    </tr>\n",
       "    <tr>\n",
       "      <th>min</th>\n",
       "      <td>1.000000</td>\n",
       "      <td>2.099862e+05</td>\n",
       "      <td>0.000000</td>\n",
       "      <td>-2.060000</td>\n",
       "      <td>2.472000</td>\n",
       "      <td>126.064000</td>\n",
       "      <td>3.879000</td>\n",
       "    </tr>\n",
       "    <tr>\n",
       "      <th>25%</th>\n",
       "      <td>12.000000</td>\n",
       "      <td>5.533501e+05</td>\n",
       "      <td>0.000000</td>\n",
       "      <td>47.460000</td>\n",
       "      <td>2.933000</td>\n",
       "      <td>131.735000</td>\n",
       "      <td>6.891000</td>\n",
       "    </tr>\n",
       "    <tr>\n",
       "      <th>50%</th>\n",
       "      <td>23.000000</td>\n",
       "      <td>9.607460e+05</td>\n",
       "      <td>0.000000</td>\n",
       "      <td>62.670000</td>\n",
       "      <td>3.445000</td>\n",
       "      <td>182.616521</td>\n",
       "      <td>7.874000</td>\n",
       "    </tr>\n",
       "    <tr>\n",
       "      <th>75%</th>\n",
       "      <td>34.000000</td>\n",
       "      <td>1.420159e+06</td>\n",
       "      <td>0.000000</td>\n",
       "      <td>74.940000</td>\n",
       "      <td>3.735000</td>\n",
       "      <td>212.743293</td>\n",
       "      <td>8.622000</td>\n",
       "    </tr>\n",
       "    <tr>\n",
       "      <th>max</th>\n",
       "      <td>45.000000</td>\n",
       "      <td>3.818686e+06</td>\n",
       "      <td>1.000000</td>\n",
       "      <td>100.140000</td>\n",
       "      <td>4.468000</td>\n",
       "      <td>227.232807</td>\n",
       "      <td>14.313000</td>\n",
       "    </tr>\n",
       "  </tbody>\n",
       "</table>\n",
       "</div>"
      ],
      "text/plain": [
       "            tienda  ventas_semanales  flag_feriado  temperatura  \\\n",
       "count  6435.000000      6.435000e+03   6435.000000  6435.000000   \n",
       "mean     23.000000      1.046965e+06      0.069930    60.663782   \n",
       "std      12.988182      5.643666e+05      0.255049    18.444933   \n",
       "min       1.000000      2.099862e+05      0.000000    -2.060000   \n",
       "25%      12.000000      5.533501e+05      0.000000    47.460000   \n",
       "50%      23.000000      9.607460e+05      0.000000    62.670000   \n",
       "75%      34.000000      1.420159e+06      0.000000    74.940000   \n",
       "max      45.000000      3.818686e+06      1.000000   100.140000   \n",
       "\n",
       "       precio_combustible          CPI    desempleo  \n",
       "count         6435.000000  6435.000000  6435.000000  \n",
       "mean             3.358607   171.578394     7.999151  \n",
       "std              0.459020    39.356712     1.875885  \n",
       "min              2.472000   126.064000     3.879000  \n",
       "25%              2.933000   131.735000     6.891000  \n",
       "50%              3.445000   182.616521     7.874000  \n",
       "75%              3.735000   212.743293     8.622000  \n",
       "max              4.468000   227.232807    14.313000  "
      ]
     },
     "execution_count": 6,
     "metadata": {},
     "output_type": "execute_result"
    }
   ],
   "source": [
    "df.describe()"
   ]
  },
  {
   "cell_type": "markdown",
   "id": "9c7f10d1",
   "metadata": {},
   "source": [
    "Se observa que las ventas semanales tienen una media de alrededor de 1046965 unidades, con una variabilidad considerable representada por una desviación estándar de aproximadamente 564366 unidades. Además, se puede ver un bajo porcentaje de semanas con feriados de solo el 6.99%, y las condiciones climáticas varían desde temperaturas mínimas de -2.06 grados hasta máximas de 100.14 grados. El precio del combustible tiene un rango de 2472 unidades a 4468 unidades, mientras que el CPI y la tasa de desempleo muestran niveles promedio de 171.58 y 7.99%, respectivamente, con desviaciones estándar que indican cierta variabilidad."
   ]
  },
  {
   "cell_type": "markdown",
   "id": "4f9fd370",
   "metadata": {},
   "source": [
    "### 3. Evalúe si la base contiene datos perdidos."
   ]
  },
  {
   "cell_type": "markdown",
   "id": "7f3c0309",
   "metadata": {},
   "source": [
    "Se puede observar que no existen valores nulos o perdidos:"
   ]
  },
  {
   "cell_type": "code",
   "execution_count": 8,
   "id": "244f9d5e",
   "metadata": {},
   "outputs": [
    {
     "data": {
      "text/plain": [
       "tienda                0\n",
       "fecha                 0\n",
       "ventas_semanales      0\n",
       "flag_feriado          0\n",
       "temperatura           0\n",
       "precio_combustible    0\n",
       "CPI                   0\n",
       "desempleo             0\n",
       "dia                   0\n",
       "mes                   0\n",
       "anio                  0\n",
       "dtype: int64"
      ]
     },
     "execution_count": 8,
     "metadata": {},
     "output_type": "execute_result"
    }
   ],
   "source": [
    "df.isna().sum()"
   ]
  },
  {
   "cell_type": "markdown",
   "id": "1c55e4db",
   "metadata": {},
   "source": [
    "### 4. Evalúe si alguna de las variables contiene datos atípicos (outliers). De ser el caso detalle cuáles y qué método estadístico aplicaran para corregir. "
   ]
  },
  {
   "cell_type": "markdown",
   "id": "9779dfed",
   "metadata": {},
   "source": [
    "#### Análisis de valores extremos"
   ]
  },
  {
   "cell_type": "code",
   "execution_count": 9,
   "id": "fb4beb3d",
   "metadata": {},
   "outputs": [
    {
     "data": {
      "image/png": "[encoded data removed]",
      "text/plain": [
       "<Figure size 1000x1000 with 8 Axes>"
      ]
     },
     "metadata": {},
     "output_type": "display_data"
    }
   ],
   "source": [
    "# Box plots\n",
    "fig, axs = plt.subplots(4,2, figsize = (10,10))\n",
    "plt1 = sns.boxplot(df['tienda'], ax = axs[0,0]).set(xlabel='tienda')\n",
    "plt2 = sns.boxplot(df['ventas_semanales'], ax = axs[0,1]).set(xlabel='ventas_semanales')\n",
    "plt3 = sns.boxplot(df['flag_feriado'], ax = axs[1,0]).set(xlabel='flag_feriado')\n",
    "plt4 = sns.boxplot(df['temperatura'], ax = axs[1,1]).set(xlabel='temperatura')\n",
    "plt5 = sns.boxplot(df['precio_combustible'], ax = axs[2,0]).set(xlabel='precio_combustible')\n",
    "plt6 = sns.boxplot(df['CPI'], ax = axs[2,1]).set(xlabel='CPI')\n",
    "plt7 = sns.boxplot(df['desempleo'], ax = axs[3,0]).set(xlabel='desempleo')\n",
    "\n",
    "plt.tight_layout()"
   ]
  },
  {
   "cell_type": "markdown",
   "id": "2552a553",
   "metadata": {},
   "source": [
    "De la gráfica de boxplot, podemos ver que las variables donde se requiere el tratamiento de valores extremos son desempleo, temperatura y ventas_semanales.\n",
    "\n",
    "Para los valores de flag_feriado no será tomado como valores extremos porque representa una variable cualificativa."
   ]
  },
  {
   "cell_type": "markdown",
   "id": "0739ebbc",
   "metadata": {},
   "source": [
    "#### Tratamiento de valores atípicos\n"
   ]
  },
  {
   "cell_type": "code",
   "execution_count": 10,
   "id": "e56b7b20",
   "metadata": {},
   "outputs": [
    {
     "name": "stdout",
     "output_type": "stream",
     "text": [
      "Q1: \n",
      "553350.105\n",
      "Q3: \n",
      "1420158.66\n",
      "IQR: \n",
      "866808.5549999999\n"
     ]
    },
    {
     "data": {
      "text/plain": [
       "(6401, 11)"
      ]
     },
     "execution_count": 10,
     "metadata": {},
     "output_type": "execute_result"
    }
   ],
   "source": [
    "# Calculamos el Quartil 1 y Quartil 3 que son aquellos que nos permiten estimar los límites de los datos atípicos\n",
    "Q1 = df['ventas_semanales'].quantile(0.25)\n",
    "Q3 = df['ventas_semanales'].quantile(0.75)\n",
    "\n",
    "print(\"Q1: \")\n",
    "print(Q1)\n",
    "print(\"Q3: \")\n",
    "print(Q3)\n",
    "\n",
    "IQR = Q3 - Q1  #rango intercuartil\n",
    "print(\"IQR: \")\n",
    "print(IQR)\n",
    "\n",
    "# Ahora removemos aquellas observaciones que se encuentran por fuera del rango: 1.5 x IOR\n",
    "df = df[~((df['ventas_semanales'] < (Q1 - 1.5 * IQR)) |(df['ventas_semanales'] > (Q3 + 1.5 * IQR)))]\n",
    "df.shape"
   ]
  },
  {
   "cell_type": "code",
   "execution_count": 11,
   "id": "ba298b3b",
   "metadata": {},
   "outputs": [
    {
     "name": "stdout",
     "output_type": "stream",
     "text": [
      "Q1: \n",
      "6.891\n",
      "Q3: \n",
      "8.622\n",
      "IQR: \n",
      "1.7309999999999999\n"
     ]
    },
    {
     "data": {
      "text/plain": [
       "(5920, 11)"
      ]
     },
     "execution_count": 11,
     "metadata": {},
     "output_type": "execute_result"
    }
   ],
   "source": [
    "# Calculamos el Quartil 1 y Quartil 3 que son aquellos que nos permiten estimar los límites de los datos atípicos\n",
    "Q1 = df['desempleo'].quantile(0.25)\n",
    "Q3 = df['desempleo'].quantile(0.75)\n",
    "\n",
    "print(\"Q1: \")\n",
    "print(Q1)\n",
    "print(\"Q3: \")\n",
    "print(Q3)\n",
    "\n",
    "IQR = Q3 - Q1  #rango intercuartil\n",
    "print(\"IQR: \")\n",
    "print(IQR)\n",
    "\n",
    "# Ahora removemos aquellas observaciones que se encuentran por fuera del rango: 1.5 x IOR\n",
    "df = df[~((df['desempleo'] < (Q1 - 1.5 * IQR)) |(df['desempleo'] > (Q3 + 1.5 * IQR)))]\n",
    "df.shape"
   ]
  },
  {
   "cell_type": "code",
   "execution_count": 12,
   "id": "59d4482e",
   "metadata": {},
   "outputs": [
    {
     "name": "stdout",
     "output_type": "stream",
     "text": [
      "Q1: \n",
      "46.965\n",
      "Q3: \n",
      "74.7225\n",
      "IQR: \n",
      "27.757499999999993\n"
     ]
    },
    {
     "data": {
      "text/plain": [
       "(5919, 11)"
      ]
     },
     "execution_count": 12,
     "metadata": {},
     "output_type": "execute_result"
    }
   ],
   "source": [
    "# Calculamos el Quartil 1 y Quartil 3 que son aquellos que nos permiten estimar los límites de los datos atípicos\n",
    "Q1 = df['temperatura'].quantile(0.25)\n",
    "Q3 = df['temperatura'].quantile(0.75)\n",
    "\n",
    "print(\"Q1: \")\n",
    "print(Q1)\n",
    "print(\"Q3: \")\n",
    "print(Q3)\n",
    "\n",
    "IQR = Q3 - Q1  #rango intercuartil\n",
    "print(\"IQR: \")\n",
    "print(IQR)\n",
    "\n",
    "# Ahora removemos aquellas observaciones que se encuentran por fuera del rango: 1.5 x IOR\n",
    "df = df[~((df['temperatura'] < (Q1 - 1.5 * IQR)) |(df['temperatura'] > (Q3 + 1.5 * IQR)))]\n",
    "df.shape"
   ]
  },
  {
   "cell_type": "markdown",
   "id": "96f1d2cc",
   "metadata": {},
   "source": [
    "### 5. Grafique las distribuciones de las variables y a priori comente sobre ellas. "
   ]
  },
  {
   "cell_type": "code",
   "execution_count": 13,
   "id": "9a9e994c",
   "metadata": {},
   "outputs": [
    {
     "data": {
      "text/plain": [
       "<Axes: xlabel='tienda', ylabel='Density'>"
      ]
     },
     "execution_count": 13,
     "metadata": {},
     "output_type": "execute_result"
    },
    {
     "data": {
      "image/png": "[encoded data removed]",
      "text/plain": [
       "<Figure size 640x480 with 1 Axes>"
      ]
     },
     "metadata": {},
     "output_type": "display_data"
    }
   ],
   "source": [
    "sns.distplot(df['tienda'],color=\"blue\")"
   ]
  },
  {
   "cell_type": "code",
   "execution_count": 14,
   "id": "5494f84f",
   "metadata": {},
   "outputs": [
    {
     "data": {
      "text/plain": [
       "<Axes: xlabel='ventas_semanales', ylabel='Density'>"
      ]
     },
     "execution_count": 14,
     "metadata": {},
     "output_type": "execute_result"
    },
    {
     "data": {
      "image/png": "[encoded data removed]",
      "text/plain": [
       "<Figure size 640x480 with 1 Axes>"
      ]
     },
     "metadata": {},
     "output_type": "display_data"
    }
   ],
   "source": [
    "sns.distplot(df['ventas_semanales'],color=\"blue\")"
   ]
  },
  {
   "cell_type": "code",
   "execution_count": 15,
   "id": "be9c7bf2",
   "metadata": {},
   "outputs": [
    {
     "data": {
      "text/plain": [
       "<Axes: xlabel='flag_feriado', ylabel='Density'>"
      ]
     },
     "execution_count": 15,
     "metadata": {},
     "output_type": "execute_result"
    },
    {
     "data": {
      "image/png": "[encoded data removed]",
      "text/plain": [
       "<Figure size 640x480 with 1 Axes>"
      ]
     },
     "metadata": {},
     "output_type": "display_data"
    }
   ],
   "source": [
    "sns.distplot(df['flag_feriado'],color=\"blue\")"
   ]
  },
  {
   "cell_type": "code",
   "execution_count": 17,
   "id": "9f728170",
   "metadata": {},
   "outputs": [
    {
     "data": {
      "text/plain": [
       "<Axes: xlabel='temperatura', ylabel='Density'>"
      ]
     },
     "execution_count": 17,
     "metadata": {},
     "output_type": "execute_result"
    },
    {
     "data": {
      "image/png": "[encoded data removed]",
      "text/plain": [
       "<Figure size 640x480 with 1 Axes>"
      ]
     },
     "metadata": {},
     "output_type": "display_data"
    }
   ],
   "source": [
    "sns.distplot(df['temperatura'],color=\"blue\")"
   ]
  },
  {
   "cell_type": "code",
   "execution_count": 18,
   "id": "c56a25e2",
   "metadata": {},
   "outputs": [
    {
     "data": {
      "text/plain": [
       "<Axes: xlabel='precio_combustible', ylabel='Density'>"
      ]
     },
     "execution_count": 18,
     "metadata": {},
     "output_type": "execute_result"
    },
    {
     "data": {
      "image/png": "[encoded data removed]",
      "text/plain": [
       "<Figure size 640x480 with 1 Axes>"
      ]
     },
     "metadata": {},
     "output_type": "display_data"
    }
   ],
   "source": [
    "sns.distplot(df['precio_combustible'],color=\"blue\")"
   ]
  },
  {
   "cell_type": "code",
   "execution_count": 19,
   "id": "d7e4e8da",
   "metadata": {},
   "outputs": [
    {
     "data": {
      "text/plain": [
       "<Axes: xlabel='CPI', ylabel='Density'>"
      ]
     },
     "execution_count": 19,
     "metadata": {},
     "output_type": "execute_result"
    },
    {
     "data": {
      "image/png": "[encoded data removed]",
      "text/plain": [
       "<Figure size 640x480 with 1 Axes>"
      ]
     },
     "metadata": {},
     "output_type": "display_data"
    }
   ],
   "source": [
    "sns.distplot(df['CPI'],color=\"blue\")"
   ]
  },
  {
   "cell_type": "code",
   "execution_count": 20,
   "id": "a81c50bb",
   "metadata": {},
   "outputs": [
    {
     "data": {
      "text/plain": [
       "<Axes: xlabel='desempleo', ylabel='Density'>"
      ]
     },
     "execution_count": 20,
     "metadata": {},
     "output_type": "execute_result"
    },
    {
     "data": {
      "image/png": "[encoded data removed]",
      "text/plain": [
       "<Figure size 640x480 with 1 Axes>"
      ]
     },
     "metadata": {},
     "output_type": "display_data"
    }
   ],
   "source": [
    "sns.distplot(df['desempleo'],color=\"blue\")"
   ]
  },
  {
   "cell_type": "markdown",
   "id": "dc9b1c36",
   "metadata": {},
   "source": [
    "En el primer gráficos podemos ver como el presupuesto de la televisión y su influencia tiene un relación positiva , mientras que las redes sociales y radio decae poco a poco, cada vez la prioridad se ve afectada con menos presupuesto. Las ventas se mantienen constantes pese a que la inversión de radio y redes sociales se vieron con un menor presupuesto.\n",
    "\n",
    "Según la gráfica de Social Media se ve una distribución normal de cola derecha sería que la mayoría de los valores se concentran en el extremo izquierdo de la distribución, con una cola larga y extendida hacia la derecha. Esto sugiere que hay una asimetría en los datos, con valores más bajos siendo más frecuentes que los valores más altos. Además, la media estaría desplazada hacia la derecha, con una mediana y una moda menores que la media.\n",
    "\n",
    "En la gráfica de Ventas los valores están mayoritariamente ubicados entre la primera y la segunda desviación estándar es que la distribución de los datos sigue una distribución normal. Esto sugiere que la mayoría de los datos se encuentran cerca de la media de la distribución, con una densidad de valores decreciente a medida que nos alejamos de la media en ambas direcciones. Además, la concentración de datos dentro de este rango específico entre la primera y la segunda desviación estándar indica que la distribución es relativamente simétrica y que la dispersión de los datos alrededor de la media es consistente y predecible. Permite realizar inferencias sobre la probabilidad de ocurrencia de ciertos."
   ]
  },
  {
   "cell_type": "markdown",
   "id": "90d79881",
   "metadata": {},
   "source": [
    "### 6. Obtenga las correlaciones entre los datos de corte numérico "
   ]
  },
  {
   "cell_type": "code",
   "execution_count": null,
   "id": "5fab8236",
   "metadata": {},
   "outputs": [
    {
     "ename": "",
     "evalue": "",
     "output_type": "error",
     "traceback": [
      "\u001b[1;31mRunning cells with '/usr/local/bin/python3.7' requires the ipykernel package.\n",
      "\u001b[1;31mRun the following command to install 'ipykernel' into the Python environment. \n",
      "\u001b[1;31mCommand: '/usr/local/bin/python3.7 -m pip install ipykernel -U --user --force-reinstall'"
     ]
    }
   ],
   "source": [
    "df.corr(numeric_only=True).style.background_gradient(cmap='coolwarm')"
   ]
  },
  {
   "cell_type": "code",
   "execution_count": null,
   "id": "7034636c",
   "metadata": {},
   "outputs": [
    {
     "ename": "",
     "evalue": "",
     "output_type": "error",
     "traceback": [
      "\u001b[1;31mRunning cells with '/usr/local/bin/python3.7' requires the ipykernel package.\n",
      "\u001b[1;31mRun the following command to install 'ipykernel' into the Python environment. \n",
      "\u001b[1;31mCommand: '/usr/local/bin/python3.7 -m pip install ipykernel -U --user --force-reinstall'"
     ]
    }
   ],
   "source": [
    "# Número de las variables\n",
    "n = 6\n",
    "fig = plt.figure(figsize=(12,12))\n",
    "# Correlaciones en pares\n",
    "corr = df.corr(numeric_only=True)\n",
    "#\n",
    "cols = corr.nlargest(6, \"Ventas\")[\"Ventas\"].index\n",
    "# Calculate correlation\n",
    "for i in np.arange(1,5):\n",
    "    if(i != 4):\n",
    "        regline = df[cols[i]]\n",
    "        ax = fig.add_subplot(3,2,i)\n",
    "        sns.regplot(x=regline, y=df['Ventas'], scatter_kws={\"color\": \"royalblue\", \"s\": 3},\n",
    "                    line_kws={\"color\": \"turquoise\"})\n",
    "plt.tight_layout()\n",
    "plt.show()"
   ]
  },
  {
   "cell_type": "markdown",
   "id": "4d4c6263",
   "metadata": {},
   "source": [
    "### 7. Comente que variables escogerán como variable dependiente y que variables introducirán a su modelo de regresión lineal, como variables explicativas. Justifique su respuesta."
   ]
  },
  {
   "cell_type": "markdown",
   "id": "69f15717",
   "metadata": {},
   "source": [
    "Según las gráficas de correlación se puede observar que a medida de que el presupuesto de TV, Radio y Social Media aumentan el valor de Ventas también aumenta. \n",
    "\n",
    "Por ello, se puede decir que la variable dependiente es la de Ventas y las variables explicativas serían TV, Radio, Influencer y Social Media."
   ]
  },
  {
   "cell_type": "markdown",
   "id": "a8240b3f",
   "metadata": {},
   "source": [
    "### 8. Grabe el primer modelo de regresión y otórguele el alias de su preferencia. Comente los resultados del modelo."
   ]
  },
  {
   "cell_type": "markdown",
   "id": "f427c579",
   "metadata": {},
   "source": [
    "Primero se va a transformar la variable cualificativa de Influencer a cuantitativa utilizando labelEncoder:"
   ]
  },
  {
   "cell_type": "code",
   "execution_count": null,
   "id": "9a119cca",
   "metadata": {},
   "outputs": [
    {
     "ename": "",
     "evalue": "",
     "output_type": "error",
     "traceback": [
      "\u001b[1;31mRunning cells with '/usr/local/bin/python3.7' requires the ipykernel package.\n",
      "\u001b[1;31mRun the following command to install 'ipykernel' into the Python environment. \n",
      "\u001b[1;31mCommand: '/usr/local/bin/python3.7 -m pip install ipykernel -U --user --force-reinstall'"
     ]
    }
   ],
   "source": [
    "var_cuantitativas = df.select_dtypes('number').columns\n",
    "var_cualitativas  =df.select_dtypes('object').columns"
   ]
  },
  {
   "cell_type": "code",
   "execution_count": null,
   "id": "d6d472c5",
   "metadata": {},
   "outputs": [
    {
     "ename": "",
     "evalue": "",
     "output_type": "error",
     "traceback": [
      "\u001b[1;31mRunning cells with '/usr/local/bin/python3.7' requires the ipykernel package.\n",
      "\u001b[1;31mRun the following command to install 'ipykernel' into the Python environment. \n",
      "\u001b[1;31mCommand: '/usr/local/bin/python3.7 -m pip install ipykernel -U --user --force-reinstall'"
     ]
    }
   ],
   "source": [
    "from sklearn.preprocessing import LabelEncoder"
   ]
  },
  {
   "cell_type": "code",
   "execution_count": null,
   "id": "ad1a6307",
   "metadata": {},
   "outputs": [
    {
     "ename": "",
     "evalue": "",
     "output_type": "error",
     "traceback": [
      "\u001b[1;31mRunning cells with '/usr/local/bin/python3.7' requires the ipykernel package.\n",
      "\u001b[1;31mRun the following command to install 'ipykernel' into the Python environment. \n",
      "\u001b[1;31mCommand: '/usr/local/bin/python3.7 -m pip install ipykernel -U --user --force-reinstall'"
     ]
    }
   ],
   "source": [
    "# creating instance of labelencoder\n",
    "labelencoder = LabelEncoder()"
   ]
  },
  {
   "cell_type": "code",
   "execution_count": null,
   "id": "f304d3c8",
   "metadata": {},
   "outputs": [
    {
     "ename": "",
     "evalue": "",
     "output_type": "error",
     "traceback": [
      "\u001b[1;31mRunning cells with '/usr/local/bin/python3.7' requires the ipykernel package.\n",
      "\u001b[1;31mRun the following command to install 'ipykernel' into the Python environment. \n",
      "\u001b[1;31mCommand: '/usr/local/bin/python3.7 -m pip install ipykernel -U --user --force-reinstall'"
     ]
    }
   ],
   "source": [
    "df.Influencer = labelencoder.fit_transform(df.Influencer)\n",
    "df"
   ]
  },
  {
   "cell_type": "markdown",
   "id": "36e0e9cb",
   "metadata": {},
   "source": [
    "Aplicamos logaritmos a nuestra variable dependiente:"
   ]
  },
  {
   "cell_type": "code",
   "execution_count": null,
   "id": "45fe6b25",
   "metadata": {},
   "outputs": [
    {
     "ename": "",
     "evalue": "",
     "output_type": "error",
     "traceback": [
      "\u001b[1;31mRunning cells with '/usr/local/bin/python3.7' requires the ipykernel package.\n",
      "\u001b[1;31mRun the following command to install 'ipykernel' into the Python environment. \n",
      "\u001b[1;31mCommand: '/usr/local/bin/python3.7 -m pip install ipykernel -U --user --force-reinstall'"
     ]
    }
   ],
   "source": [
    "log_ventas=np.log(df.Ventas)\n",
    "df['log_ventas']=log_ventas"
   ]
  },
  {
   "cell_type": "markdown",
   "id": "ae0a2a1f",
   "metadata": {},
   "source": [
    "Procedemos con la aplicación de la regresión lineal:"
   ]
  },
  {
   "cell_type": "code",
   "execution_count": null,
   "id": "6fc6bb45",
   "metadata": {},
   "outputs": [
    {
     "ename": "",
     "evalue": "",
     "output_type": "error",
     "traceback": [
      "\u001b[1;31mRunning cells with '/usr/local/bin/python3.7' requires the ipykernel package.\n",
      "\u001b[1;31mRun the following command to install 'ipykernel' into the Python environment. \n",
      "\u001b[1;31mCommand: '/usr/local/bin/python3.7 -m pip install ipykernel -U --user --force-reinstall'"
     ]
    }
   ],
   "source": [
    "regresion = ols(\"log_ventas ~ TV + Radio + Influencer + Social_Media\", data=df)\n",
    "results = regresion.fit()"
   ]
  },
  {
   "cell_type": "code",
   "execution_count": null,
   "id": "9e443df0",
   "metadata": {},
   "outputs": [
    {
     "ename": "",
     "evalue": "",
     "output_type": "error",
     "traceback": [
      "\u001b[1;31mRunning cells with '/usr/local/bin/python3.7' requires the ipykernel package.\n",
      "\u001b[1;31mRun the following command to install 'ipykernel' into the Python environment. \n",
      "\u001b[1;31mCommand: '/usr/local/bin/python3.7 -m pip install ipykernel -U --user --force-reinstall'"
     ]
    }
   ],
   "source": [
    "print(results.summary())"
   ]
  },
  {
   "cell_type": "markdown",
   "id": "8a78dc58",
   "metadata": {},
   "source": [
    "Podemos observar que el R^2 ajustado es de el 0.924 lo que quiere decir que nuestro modelo alcanza a explicar un 92.4% la variablididad de nuestra variable dependiente con la inclusión de 3 variables."
   ]
  },
  {
   "cell_type": "markdown",
   "id": "51c45495",
   "metadata": {},
   "source": [
    "No todas la variables pasaron el 95% de confianza. La variable de Influencer es mayor al 0.05 por lo que no debería ser tomada como variable explicativa."
   ]
  },
  {
   "cell_type": "markdown",
   "id": "43228cbd",
   "metadata": {},
   "source": [
    "### 9. Verifique los supuestos de la regresión lineal. Comente cada uno de ellos. "
   ]
  },
  {
   "cell_type": "markdown",
   "id": "45d47ed4",
   "metadata": {},
   "source": [
    "#### 1. Multicolinearidad"
   ]
  },
  {
   "cell_type": "code",
   "execution_count": null,
   "id": "cb46664d",
   "metadata": {},
   "outputs": [
    {
     "ename": "",
     "evalue": "",
     "output_type": "error",
     "traceback": [
      "\u001b[1;31mRunning cells with '/usr/local/bin/python3.7' requires the ipykernel package.\n",
      "\u001b[1;31mRun the following command to install 'ipykernel' into the Python environment. \n",
      "\u001b[1;31mCommand: '/usr/local/bin/python3.7 -m pip install ipykernel -U --user --force-reinstall'"
     ]
    }
   ],
   "source": [
    "from statsmodels.stats.outliers_influence import variance_inflation_factor"
   ]
  },
  {
   "cell_type": "code",
   "execution_count": null,
   "id": "3e1929a6",
   "metadata": {},
   "outputs": [
    {
     "ename": "",
     "evalue": "",
     "output_type": "error",
     "traceback": [
      "\u001b[1;31mRunning cells with '/usr/local/bin/python3.7' requires the ipykernel package.\n",
      "\u001b[1;31mRun the following command to install 'ipykernel' into the Python environment. \n",
      "\u001b[1;31mCommand: '/usr/local/bin/python3.7 -m pip install ipykernel -U --user --force-reinstall'"
     ]
    }
   ],
   "source": [
    "df2=df[df.columns.difference(['Ventas', 'log_ventas'])]\n",
    "df2"
   ]
  },
  {
   "cell_type": "code",
   "execution_count": null,
   "id": "7f9d8dd4",
   "metadata": {},
   "outputs": [
    {
     "ename": "",
     "evalue": "",
     "output_type": "error",
     "traceback": [
      "\u001b[1;31mRunning cells with '/usr/local/bin/python3.7' requires the ipykernel package.\n",
      "\u001b[1;31mRun the following command to install 'ipykernel' into the Python environment. \n",
      "\u001b[1;31mCommand: '/usr/local/bin/python3.7 -m pip install ipykernel -U --user --force-reinstall'"
     ]
    }
   ],
   "source": [
    "df2.dtypes"
   ]
  },
  {
   "cell_type": "markdown",
   "id": "0ccdd886",
   "metadata": {},
   "source": [
    "Ahora si, calculemos el VIF de nuestras variables para ver que tan correlacionadas están entre sí:"
   ]
  },
  {
   "cell_type": "code",
   "execution_count": null,
   "id": "fd094cec",
   "metadata": {},
   "outputs": [
    {
     "ename": "",
     "evalue": "",
     "output_type": "error",
     "traceback": [
      "\u001b[1;31mRunning cells with '/usr/local/bin/python3.7' requires the ipykernel package.\n",
      "\u001b[1;31mRun the following command to install 'ipykernel' into the Python environment. \n",
      "\u001b[1;31mCommand: '/usr/local/bin/python3.7 -m pip install ipykernel -U --user --force-reinstall'"
     ]
    }
   ],
   "source": [
    "# Creamos el dataframe del VIF\n",
    "vif_data = pd.DataFrame()\n",
    "vif_data[\"feature\"] = df2.columns\n",
    "  \n",
    "# Calculamos el VIF por c/variable\n",
    "vif_data[\"VIF\"] = [variance_inflation_factor(df2.values, i) for i in range(len(df2.columns))]\n",
    "\n",
    "print(vif_data)\n",
    "  "
   ]
  },
  {
   "cell_type": "markdown",
   "id": "9e8fec5d",
   "metadata": {},
   "source": [
    "Solo la variable de Influencer es la única que no es mayor a 5, por lo que tiene una correlación moderada con Ventas pero no es potencialmente severa."
   ]
  },
  {
   "cell_type": "markdown",
   "id": "c7e59aba",
   "metadata": {},
   "source": [
    "Aplicamos nuevamente el VIF habiendo removido la variable de Influencer."
   ]
  },
  {
   "cell_type": "code",
   "execution_count": null,
   "id": "a4419f08",
   "metadata": {},
   "outputs": [
    {
     "ename": "",
     "evalue": "",
     "output_type": "error",
     "traceback": [
      "\u001b[1;31mRunning cells with '/usr/local/bin/python3.7' requires the ipykernel package.\n",
      "\u001b[1;31mRun the following command to install 'ipykernel' into the Python environment. \n",
      "\u001b[1;31mCommand: '/usr/local/bin/python3.7 -m pip install ipykernel -U --user --force-reinstall'"
     ]
    }
   ],
   "source": [
    "regresion_2 = ols(\"log_ventas ~ TV + Radio + Social_Media\", data=df)\n",
    "results_2 = regresion_2.fit()"
   ]
  },
  {
   "cell_type": "code",
   "execution_count": null,
   "id": "db13919a",
   "metadata": {},
   "outputs": [
    {
     "ename": "",
     "evalue": "",
     "output_type": "error",
     "traceback": [
      "\u001b[1;31mRunning cells with '/usr/local/bin/python3.7' requires the ipykernel package.\n",
      "\u001b[1;31mRun the following command to install 'ipykernel' into the Python environment. \n",
      "\u001b[1;31mCommand: '/usr/local/bin/python3.7 -m pip install ipykernel -U --user --force-reinstall'"
     ]
    }
   ],
   "source": [
    "print(results_2.summary())"
   ]
  },
  {
   "cell_type": "code",
   "execution_count": null,
   "id": "350440a6",
   "metadata": {},
   "outputs": [
    {
     "ename": "",
     "evalue": "",
     "output_type": "error",
     "traceback": [
      "\u001b[1;31mRunning cells with '/usr/local/bin/python3.7' requires the ipykernel package.\n",
      "\u001b[1;31mRun the following command to install 'ipykernel' into the Python environment. \n",
      "\u001b[1;31mCommand: '/usr/local/bin/python3.7 -m pip install ipykernel -U --user --force-reinstall'"
     ]
    }
   ],
   "source": [
    "# Creamos el dataframe del VIF\n",
    "vif_data = pd.DataFrame()\n",
    "vif_data[\"feature\"] = df2.columns.difference(['Influencer'])\n",
    "  \n",
    "# Calculamos el VIF por c/variable\n",
    "vif_data[\"VIF\"] = [variance_inflation_factor(df2[df2.columns.difference(['Influencer'])].values, i) \\\n",
    "                   for i in range(len(df2[df2.columns.difference(['Influencer'])].columns))]\n",
    "\n",
    "print(vif_data)\n",
    "  "
   ]
  },
  {
   "cell_type": "markdown",
   "id": "cce455b3",
   "metadata": {},
   "source": [
    "Observamos que mantenemos la misma R-squared ajustada."
   ]
  },
  {
   "cell_type": "markdown",
   "id": "daacf72d",
   "metadata": {},
   "source": [
    "#### 2. Linealidad en los parámetros"
   ]
  },
  {
   "cell_type": "code",
   "execution_count": null,
   "id": "f301dfb7",
   "metadata": {},
   "outputs": [
    {
     "ename": "",
     "evalue": "",
     "output_type": "error",
     "traceback": [
      "\u001b[1;31mRunning cells with '/usr/local/bin/python3.7' requires the ipykernel package.\n",
      "\u001b[1;31mRun the following command to install 'ipykernel' into the Python environment. \n",
      "\u001b[1;31mCommand: '/usr/local/bin/python3.7 -m pip install ipykernel -U --user --force-reinstall'"
     ]
    }
   ],
   "source": [
    "# Número de las variables\n",
    "n = 6\n",
    "fig = plt.figure(figsize=(12,12))\n",
    "# Correlaciones en pares\n",
    "corr = df.corr(numeric_only=True)\n",
    "#\n",
    "cols = corr.nlargest(6, \"log_ventas\")[\"log_ventas\"].index\n",
    "# Calculate correlation\n",
    "for i in np.arange(3,6):\n",
    "    regline = df[cols[i]]\n",
    "    ax = fig.add_subplot(3,2,i)\n",
    "    sns.regplot(x=regline, y=df['log_ventas'], scatter_kws={\"color\": \"royalblue\", \"s\": 3},\n",
    "                line_kws={\"color\": \"turquoise\"})\n",
    "plt.tight_layout()\n",
    "plt.show()"
   ]
  },
  {
   "cell_type": "markdown",
   "id": "8f520e7c",
   "metadata": {},
   "source": [
    "Se puede observar que las variables de TV y Radio sus nubes de puntos no son tan dispersos a la línea de regresión. Por ello, gráficamente sí existe una relación lineal. Por otro lado, la variable Social Media no está tan relacionada a la línea de regresión."
   ]
  },
  {
   "cell_type": "markdown",
   "id": "9ce2c0c5",
   "metadata": {},
   "source": [
    "#### 3. Normalidad en los residuos"
   ]
  },
  {
   "cell_type": "markdown",
   "id": "92a3e3e7",
   "metadata": {},
   "source": [
    "Para la normalidad en los residuos del modelo, compararemos mediantelos gráficos QQ (o gráfico de cuantiles-cuantiles)si los puntos del gráfico forman aproximadamente una línea diagonal recta."
   ]
  },
  {
   "cell_type": "code",
   "execution_count": null,
   "id": "a76c90cc",
   "metadata": {},
   "outputs": [
    {
     "ename": "",
     "evalue": "",
     "output_type": "error",
     "traceback": [
      "\u001b[1;31mRunning cells with '/usr/local/bin/python3.7' requires the ipykernel package.\n",
      "\u001b[1;31mRun the following command to install 'ipykernel' into the Python environment. \n",
      "\u001b[1;31mCommand: '/usr/local/bin/python3.7 -m pip install ipykernel -U --user --force-reinstall'"
     ]
    }
   ],
   "source": [
    "sm.qqplot(results_2.resid, line='q')"
   ]
  },
  {
   "cell_type": "markdown",
   "id": "f3a3dfd6",
   "metadata": {},
   "source": [
    "Como podemos ver, las líneas azules que representan a los residuos caen cerca de la línea recta. Podemos observar en el gráfico de igual manera que existen observaciones que caen muy por fuera de la línea, por lo que un anális con la prueba de Jarque-Bera para validar la hipótesis de normalidad en residuos podría ser útil."
   ]
  },
  {
   "cell_type": "markdown",
   "id": "825a6e92",
   "metadata": {},
   "source": [
    "Para aplicar una prueba estadística como la de Jarque Bera, es conveniente importar un submódulo de statsmodels que son las estadisticas \"stats\""
   ]
  },
  {
   "cell_type": "code",
   "execution_count": null,
   "id": "1ef408ed",
   "metadata": {},
   "outputs": [
    {
     "ename": "",
     "evalue": "",
     "output_type": "error",
     "traceback": [
      "\u001b[1;31mRunning cells with '/usr/local/bin/python3.7' requires the ipykernel package.\n",
      "\u001b[1;31mRun the following command to install 'ipykernel' into the Python environment. \n",
      "\u001b[1;31mCommand: '/usr/local/bin/python3.7 -m pip install ipykernel -U --user --force-reinstall'"
     ]
    }
   ],
   "source": [
    "import statsmodels.stats.api as sms\n",
    "from statsmodels.compat import lzip"
   ]
  },
  {
   "cell_type": "markdown",
   "id": "5b4d3815",
   "metadata": {},
   "source": [
    "Recordemos que el test Jarque-Bera es una prueba de bondad de ajuste que determina si los datos de la muestra tienen asimetría y curtosis que coinciden con una distribución normal.\n",
    "\n",
    "Como norma general, el estadístico de prueba de la prueba de Jarque-Bera es siempre un número positivo y cuanto más alejado de cero esté, habrá más evidencia de que los datos de la muestra no siguen una distribución normal."
   ]
  },
  {
   "cell_type": "markdown",
   "id": "059d29f5",
   "metadata": {},
   "source": [
    "La hipótesis nula de este test es:\n",
    "\n",
    "- H0: Los datos se distribuyen normalmente\n",
    "- H1: Los datos no se distribuyen normalmente"
   ]
  },
  {
   "cell_type": "code",
   "execution_count": null,
   "id": "fe03dc45",
   "metadata": {},
   "outputs": [
    {
     "ename": "",
     "evalue": "",
     "output_type": "error",
     "traceback": [
      "\u001b[1;31mRunning cells with '/usr/local/bin/python3.7' requires the ipykernel package.\n",
      "\u001b[1;31mRun the following command to install 'ipykernel' into the Python environment. \n",
      "\u001b[1;31mCommand: '/usr/local/bin/python3.7 -m pip install ipykernel -U --user --force-reinstall'"
     ]
    }
   ],
   "source": [
    "nombres = [\"Jarque-Bera\", \"Chi^2 two-tail prob.\", \"Skew\", \"Kurtosis\"]\n",
    "jarque_bera = sms.jarque_bera(results_2.resid)\n",
    "lzip(nombres, jarque_bera)"
   ]
  },
  {
   "cell_type": "markdown",
   "id": "3bafc8e3",
   "metadata": {},
   "source": [
    "Los resultados sugieren que los datos no siguen una distribución normal, ya que la probabilidad asociada con la prueba Jarque-Bera es extremadamente baja. Además, la asimetría negativa y la kurtosis alta indican que la distribución tiene colas pesadas y un pico más alto en comparación con una distribución normal."
   ]
  },
  {
   "cell_type": "markdown",
   "id": "2d77a0c7",
   "metadata": {},
   "source": [
    "Finalmemte, podemos contrastar si la media de los residuos de este modelo es 0, o muy cercano a este. Para esto podemos extraer los residuos del modelo y calcular la media directamente:"
   ]
  },
  {
   "cell_type": "code",
   "execution_count": null,
   "id": "61d96c8b",
   "metadata": {},
   "outputs": [
    {
     "ename": "",
     "evalue": "",
     "output_type": "error",
     "traceback": [
      "\u001b[1;31mRunning cells with '/usr/local/bin/python3.7' requires the ipykernel package.\n",
      "\u001b[1;31mRun the following command to install 'ipykernel' into the Python environment. \n",
      "\u001b[1;31mCommand: '/usr/local/bin/python3.7 -m pip install ipykernel -U --user --force-reinstall'"
     ]
    }
   ],
   "source": [
    "results_2.resid.mean()"
   ]
  },
  {
   "cell_type": "markdown",
   "id": "606f5d4f",
   "metadata": {},
   "source": [
    "#### 4. Homocedasticidad en los residuos"
   ]
  },
  {
   "cell_type": "markdown",
   "id": "b54416a8",
   "metadata": {},
   "source": [
    "Para comprobar este supuesto podemos graficar los valores ajustados frente a una gráfica de residuos. De existir heterocedasticidad, los residuos se dispersarán mucho más a medida que los valores ajustados aumenten creando una imagen de cono.\n",
    "\n",
    "Aplicando a Python este gráfico se obtendría por medio del comando residplot dentro de seaborn."
   ]
  },
  {
   "cell_type": "code",
   "execution_count": null,
   "id": "a71ce0a0",
   "metadata": {},
   "outputs": [
    {
     "ename": "",
     "evalue": "",
     "output_type": "error",
     "traceback": [
      "\u001b[1;31mRunning cells with '/usr/local/bin/python3.7' requires the ipykernel package.\n",
      "\u001b[1;31mRun the following command to install 'ipykernel' into the Python environment. \n",
      "\u001b[1;31mCommand: '/usr/local/bin/python3.7 -m pip install ipykernel -U --user --force-reinstall'"
     ]
    }
   ],
   "source": [
    "y_pred=results_2.predict()"
   ]
  },
  {
   "cell_type": "code",
   "execution_count": null,
   "id": "10ee086e",
   "metadata": {},
   "outputs": [
    {
     "ename": "",
     "evalue": "",
     "output_type": "error",
     "traceback": [
      "\u001b[1;31mRunning cells with '/usr/local/bin/python3.7' requires the ipykernel package.\n",
      "\u001b[1;31mRun the following command to install 'ipykernel' into the Python environment. \n",
      "\u001b[1;31mCommand: '/usr/local/bin/python3.7 -m pip install ipykernel -U --user --force-reinstall'"
     ]
    }
   ],
   "source": [
    "sns.residplot(x=y_pred, y=results_2.resid)\n",
    "plt.xlabel(\"y_pred\")\n",
    "plt.ylabel(\"residuos\")\n",
    "plt.title(\"Gráfica de residuos\")"
   ]
  },
  {
   "cell_type": "markdown",
   "id": "976d5c44",
   "metadata": {},
   "source": [
    "De la gráfica de residuos anterior, podríamos inferir que los residuos formaron ningún patrón. Por lo tanto, los residuos son dependientes entre sí.\n",
    "\n",
    "Y además, los residuos tienen varianza constante. La varianza no parece aumentar/disminuir constantemente con el valor y_pred."
   ]
  },
  {
   "cell_type": "code",
   "execution_count": null,
   "id": "b55b6dfb",
   "metadata": {},
   "outputs": [
    {
     "ename": "",
     "evalue": "",
     "output_type": "error",
     "traceback": [
      "\u001b[1;31mRunning cells with '/usr/local/bin/python3.7' requires the ipykernel package.\n",
      "\u001b[1;31mRun the following command to install 'ipykernel' into the Python environment. \n",
      "\u001b[1;31mCommand: '/usr/local/bin/python3.7 -m pip install ipykernel -U --user --force-reinstall'"
     ]
    }
   ],
   "source": [
    "nombres = [\"Lagrange multiplier statistic\", \"p-value\", \"f-value\", \"f p-value\"]\n",
    "breuschpagan = sms.het_breuschpagan(results_2.resid, results.model.exog)\n",
    "lzip(nombres, breuschpagan)"
   ]
  },
  {
   "cell_type": "markdown",
   "id": "0ccdf6d8",
   "metadata": {},
   "source": [
    "Los resultados sugieren fuerte evidencia en contra de la hipótesis nula de homocedasticidad, lo que indica la presencia de heterocedasticidad en el modelo de regresión. La presencia de heterocedasticidad puede afectar la validez de las pruebas de significancia de los coeficientes en el modelo"
   ]
  },
  {
   "cell_type": "markdown",
   "id": "70b3f056",
   "metadata": {},
   "source": [
    "### 10. Obtenga el modelo de regresión definitivo, argumente su respuesta e interprete los coeficientes."
   ]
  },
  {
   "cell_type": "markdown",
   "id": "6fd35108",
   "metadata": {},
   "source": [
    "Nuestra función lineal quedaría de la siguiente manera:"
   ]
  },
  {
   "cell_type": "markdown",
   "id": "a4a7f60d",
   "metadata": {},
   "source": [
    "$$log_ventas = 3.93 + 0.02  \\times  TV - 0.00012 \\times Radio + 0.0065 \\times Social Media $$\n"
   ]
  },
  {
   "cell_type": "markdown",
   "id": "f4178861",
   "metadata": {},
   "source": [
    "El modelo sugiere que la publicidad en TV tiene un impacto positivo en las ventas, mientras que la publicidad en radio y en redes sociales tiene un impacto negativo."
   ]
  },
  {
   "cell_type": "markdown",
   "id": "e4880729",
   "metadata": {},
   "source": [
    "### 11. Grafique los valores predicho del modelo vs los valores reales. "
   ]
  },
  {
   "cell_type": "code",
   "execution_count": null,
   "id": "1b847aea",
   "metadata": {},
   "outputs": [
    {
     "ename": "",
     "evalue": "",
     "output_type": "error",
     "traceback": [
      "\u001b[1;31mRunning cells with '/usr/local/bin/python3.7' requires the ipykernel package.\n",
      "\u001b[1;31mRun the following command to install 'ipykernel' into the Python environment. \n",
      "\u001b[1;31mCommand: '/usr/local/bin/python3.7 -m pip install ipykernel -U --user --force-reinstall'"
     ]
    }
   ],
   "source": [
    "df3=df2[df2.columns.difference(['log_ventas', 'log_Ventas', 'Influencer', 'Ventas'])]\n",
    "# df3['intercepto']=1\n",
    "df3=df3[[ 'TV', 'Radio', 'Social_Media']]\n",
    "df3"
   ]
  },
  {
   "cell_type": "code",
   "execution_count": null,
   "id": "bbfc7000",
   "metadata": {},
   "outputs": [
    {
     "ename": "",
     "evalue": "",
     "output_type": "error",
     "traceback": [
      "\u001b[1;31mRunning cells with '/usr/local/bin/python3.7' requires the ipykernel package.\n",
      "\u001b[1;31mRun the following command to install 'ipykernel' into the Python environment. \n",
      "\u001b[1;31mCommand: '/usr/local/bin/python3.7 -m pip install ipykernel -U --user --force-reinstall'"
     ]
    }
   ],
   "source": [
    "results_2.predict()"
   ]
  },
  {
   "cell_type": "code",
   "execution_count": null,
   "id": "0f1c98c3",
   "metadata": {},
   "outputs": [
    {
     "ename": "",
     "evalue": "",
     "output_type": "error",
     "traceback": [
      "\u001b[1;31mRunning cells with '/usr/local/bin/python3.7' requires the ipykernel package.\n",
      "\u001b[1;31mRun the following command to install 'ipykernel' into the Python environment. \n",
      "\u001b[1;31mCommand: '/usr/local/bin/python3.7 -m pip install ipykernel -U --user --force-reinstall'"
     ]
    }
   ],
   "source": [
    "y_pred2=results_2.predict(df3)\n",
    "y_pred2"
   ]
  },
  {
   "cell_type": "markdown",
   "id": "6e65c9f2",
   "metadata": {},
   "source": [
    "### Comparemos las predicciones a los valores reales de Y"
   ]
  },
  {
   "cell_type": "code",
   "execution_count": null,
   "id": "84f5ce1c",
   "metadata": {},
   "outputs": [
    {
     "ename": "",
     "evalue": "",
     "output_type": "error",
     "traceback": [
      "\u001b[1;31mRunning cells with '/usr/local/bin/python3.7' requires the ipykernel package.\n",
      "\u001b[1;31mRun the following command to install 'ipykernel' into the Python environment. \n",
      "\u001b[1;31mCommand: '/usr/local/bin/python3.7 -m pip install ipykernel -U --user --force-reinstall'"
     ]
    }
   ],
   "source": [
    "df.log_ventas"
   ]
  }
 ],
 "metadata": {
  "kernelspec": {
   "display_name": "Python 3 (ipykernel)",
   "language": "python",
   "name": "python3"
  },
  "language_info": {
   "codemirror_mode": {
    "name": "ipython",
    "version": 3
   },
   "file_extension": ".py",
   "mimetype": "text/x-python",
   "name": "python",
   "nbconvert_exporter": "python",
   "pygments_lexer": "ipython3",
   "version": "3.11.5"
  }
 },
 "nbformat": 4,
 "nbformat_minor": 5
}
